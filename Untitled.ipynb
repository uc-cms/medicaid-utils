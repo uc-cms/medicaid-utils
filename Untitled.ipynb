{
 "cells": [
  {
   "cell_type": "code",
   "execution_count": 1,
   "id": "mighty-appraisal",
   "metadata": {},
   "outputs": [],
   "source": [
    "class Parent:\n",
    "    @classmethod\n",
    "    def get_instance(cls, claim_type, *args, **kwargs):\n",
    "        return next(claim for claim in cls.__subclasses__() if claim.__name__ == claim_type)(*args, **kwargs)\n",
    "\n",
    "    def __init__(self, context, **kwargs):\n",
    "        self.context = context\n",
    "        self.var = kwargs['var']"
   ]
  },
  {
   "cell_type": "code",
   "execution_count": 2,
   "id": "boolean-excuse",
   "metadata": {},
   "outputs": [],
   "source": [
    "class Child1(Parent):\n",
    "    def __init__(self, *args, **kwargs):\n",
    "        super().__init__(*args, **kwargs)\n",
    "        self.name = kwargs['name']\n",
    "\n",
    "\n",
    "class Child2(Parent):\n",
    "    def __init__(self, *args, **kwargs):\n",
    "        super().__init__(*args, **kwargs)\n",
    "        self.city = kwargs['city']"
   ]
  },
  {
   "cell_type": "code",
   "execution_count": 4,
   "id": "guilty-toyota",
   "metadata": {},
   "outputs": [],
   "source": [
    "t = Parent.get_instance('Child1', 'get_instance', var='b', name='a')"
   ]
  },
  {
   "cell_type": "code",
   "execution_count": 7,
   "id": "damaged-delight",
   "metadata": {},
   "outputs": [],
   "source": [
    "t = {'ot': {}}"
   ]
  },
  {
   "cell_type": "code",
   "execution_count": 10,
   "id": "approximate-rubber",
   "metadata": {},
   "outputs": [],
   "source": [
    "t['ot'] = {**t['ot'], **{'g': 1}}"
   ]
  },
  {
   "cell_type": "code",
   "execution_count": 12,
   "id": "recent-forestry",
   "metadata": {},
   "outputs": [
    {
     "data": {
      "text/plain": [
       "False"
      ]
     },
     "execution_count": 12,
     "metadata": {},
     "output_type": "execute_result"
    }
   ],
   "source": [
    "bool(None)"
   ]
  },
  {
   "cell_type": "code",
   "execution_count": 6,
   "id": "serious-regulation",
   "metadata": {},
   "outputs": [
    {
     "ename": "AttributeError",
     "evalue": "'Child1' object has no attribute 'city'",
     "output_type": "error",
     "traceback": [
      "\u001b[0;31m---------------------------------------------------------------------------\u001b[0m",
      "\u001b[0;31mAttributeError\u001b[0m                            Traceback (most recent call last)",
      "\u001b[0;32m<ipython-input-6-bea83ad3fbd2>\u001b[0m in \u001b[0;36m<module>\u001b[0;34m\u001b[0m\n\u001b[0;32m----> 1\u001b[0;31m \u001b[0mt\u001b[0m\u001b[0;34m.\u001b[0m\u001b[0mcity\u001b[0m\u001b[0;34m\u001b[0m\u001b[0;34m\u001b[0m\u001b[0m\n\u001b[0m",
      "\u001b[0;31mAttributeError\u001b[0m: 'Child1' object has no attribute 'city'"
     ]
    }
   ],
   "source": [
    "t.city"
   ]
  },
  {
   "cell_type": "code",
   "execution_count": null,
   "id": "israeli-davis",
   "metadata": {},
   "outputs": [],
   "source": []
  }
 ],
 "metadata": {
  "kernelspec": {
   "display_name": "Python [conda env:urn] *",
   "language": "python",
   "name": "conda-env-urn-py"
  },
  "language_info": {
   "codemirror_mode": {
    "name": "ipython",
    "version": 3
   },
   "file_extension": ".py",
   "mimetype": "text/x-python",
   "name": "python",
   "nbconvert_exporter": "python",
   "pygments_lexer": "ipython3",
   "version": "3.8.5"
  }
 },
 "nbformat": 4,
 "nbformat_minor": 5
}
